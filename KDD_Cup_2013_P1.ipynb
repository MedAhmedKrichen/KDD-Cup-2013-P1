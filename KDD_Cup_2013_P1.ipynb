{
  "nbformat": 4,
  "nbformat_minor": 0,
  "metadata": {
    "colab": {
      "name": "KDD Cup 2013 P1.ipynb",
      "provenance": [],
      "collapsed_sections": []
    },
    "kernelspec": {
      "name": "python3",
      "display_name": "Python 3"
    },
    "language_info": {
      "name": "python"
    },
    "accelerator": "GPU"
  },
  "cells": [
    {
      "cell_type": "code",
      "metadata": {
        "id": "J6BtAELJzJO3"
      },
      "source": [
        "import pandas as pd\n",
        "import numpy as np\n",
        "from sklearn.preprocessing import LabelEncoder\n",
        "from sklearn.ensemble import RandomForestClassifier\n",
        "from sklearn.linear_model import LogisticRegression\n",
        "from sklearn.svm import SVC\n",
        "from sklearn.model_selection import train_test_split"
      ],
      "execution_count": null,
      "outputs": []
    },
    {
      "cell_type": "code",
      "metadata": {
        "colab": {
          "base_uri": "https://localhost:8080/"
        },
        "id": "HQI4GlnZyNNx",
        "outputId": "7edfadaa-33fd-4dd8-a899-0f81b82b80e3"
      },
      "source": [
        "from google.colab import drive\n",
        "drive.mount('/content/drive')"
      ],
      "execution_count": null,
      "outputs": [
        {
          "output_type": "stream",
          "text": [
            "Mounted at /content/drive\n"
          ],
          "name": "stdout"
        }
      ]
    },
    {
      "cell_type": "code",
      "metadata": {
        "id": "lFq1Pa3wygYP"
      },
      "source": [
        "#variables\n",
        "url='/content/drive/MyDrive/dataRev2/'"
      ],
      "execution_count": null,
      "outputs": []
    },
    {
      "cell_type": "code",
      "metadata": {
        "colab": {
          "base_uri": "https://localhost:8080/",
          "height": 204
        },
        "id": "sPpo1R42ygaO",
        "outputId": "a89c7cc1-a7a9-4c81-e77d-34ed7fcb5723"
      },
      "source": [
        "author=pd.read_csv(url+'Author.csv')\n",
        "author.drop_duplicates(keep='first',inplace=True,ignore_index=True)\n",
        "author.head()"
      ],
      "execution_count": null,
      "outputs": [
        {
          "output_type": "execute_result",
          "data": {
            "text/html": [
              "<div>\n",
              "<style scoped>\n",
              "    .dataframe tbody tr th:only-of-type {\n",
              "        vertical-align: middle;\n",
              "    }\n",
              "\n",
              "    .dataframe tbody tr th {\n",
              "        vertical-align: top;\n",
              "    }\n",
              "\n",
              "    .dataframe thead th {\n",
              "        text-align: right;\n",
              "    }\n",
              "</style>\n",
              "<table border=\"1\" class=\"dataframe\">\n",
              "  <thead>\n",
              "    <tr style=\"text-align: right;\">\n",
              "      <th></th>\n",
              "      <th>Id</th>\n",
              "      <th>Name</th>\n",
              "      <th>Affiliation</th>\n",
              "    </tr>\n",
              "  </thead>\n",
              "  <tbody>\n",
              "    <tr>\n",
              "      <th>0</th>\n",
              "      <td>9</td>\n",
              "      <td>Ernest Jordan</td>\n",
              "      <td>NaN</td>\n",
              "    </tr>\n",
              "    <tr>\n",
              "      <th>1</th>\n",
              "      <td>14</td>\n",
              "      <td>K. MORIBE</td>\n",
              "      <td>NaN</td>\n",
              "    </tr>\n",
              "    <tr>\n",
              "      <th>2</th>\n",
              "      <td>15</td>\n",
              "      <td>D. Jakominich</td>\n",
              "      <td>NaN</td>\n",
              "    </tr>\n",
              "    <tr>\n",
              "      <th>3</th>\n",
              "      <td>25</td>\n",
              "      <td>William H. Nailon</td>\n",
              "      <td>NaN</td>\n",
              "    </tr>\n",
              "    <tr>\n",
              "      <th>4</th>\n",
              "      <td>37</td>\n",
              "      <td>P. B. Littlewood</td>\n",
              "      <td>Cavendish Laboratory|Cambridge University</td>\n",
              "    </tr>\n",
              "  </tbody>\n",
              "</table>\n",
              "</div>"
            ],
            "text/plain": [
              "   Id               Name                                Affiliation\n",
              "0   9      Ernest Jordan                                        NaN\n",
              "1  14          K. MORIBE                                        NaN\n",
              "2  15      D. Jakominich                                        NaN\n",
              "3  25  William H. Nailon                                        NaN\n",
              "4  37   P. B. Littlewood  Cavendish Laboratory|Cambridge University"
            ]
          },
          "metadata": {
            "tags": []
          },
          "execution_count": 4
        }
      ]
    },
    {
      "cell_type": "code",
      "metadata": {
        "colab": {
          "base_uri": "https://localhost:8080/",
          "height": 204
        },
        "id": "Qf-x3gfuzwPy",
        "outputId": "78c2bc9a-6487-43e0-96fc-031cd7fc1752"
      },
      "source": [
        "conference=pd.read_csv(url+'Conference.csv')\n",
        "conference.drop_duplicates(keep='first',inplace=True,ignore_index=True)\n",
        "conference.head()"
      ],
      "execution_count": null,
      "outputs": [
        {
          "output_type": "execute_result",
          "data": {
            "text/html": [
              "<div>\n",
              "<style scoped>\n",
              "    .dataframe tbody tr th:only-of-type {\n",
              "        vertical-align: middle;\n",
              "    }\n",
              "\n",
              "    .dataframe tbody tr th {\n",
              "        vertical-align: top;\n",
              "    }\n",
              "\n",
              "    .dataframe thead th {\n",
              "        text-align: right;\n",
              "    }\n",
              "</style>\n",
              "<table border=\"1\" class=\"dataframe\">\n",
              "  <thead>\n",
              "    <tr style=\"text-align: right;\">\n",
              "      <th></th>\n",
              "      <th>Id</th>\n",
              "      <th>ShortName</th>\n",
              "      <th>FullName</th>\n",
              "      <th>HomePage</th>\n",
              "    </tr>\n",
              "  </thead>\n",
              "  <tbody>\n",
              "    <tr>\n",
              "      <th>0</th>\n",
              "      <td>1</td>\n",
              "      <td>IADIS</td>\n",
              "      <td>International Association for Development of t...</td>\n",
              "      <td>NaN</td>\n",
              "    </tr>\n",
              "    <tr>\n",
              "      <th>1</th>\n",
              "      <td>2</td>\n",
              "      <td>IADT</td>\n",
              "      <td>Issues and Applications of Database Technology</td>\n",
              "      <td>http://www.informatik.uni-trier.de/~ley/db/con...</td>\n",
              "    </tr>\n",
              "    <tr>\n",
              "      <th>2</th>\n",
              "      <td>4</td>\n",
              "      <td>NaN</td>\n",
              "      <td>IBM Germany Scientific Symposium Series</td>\n",
              "      <td>http://www.informatik.uni-trier.de/~ley/db/con...</td>\n",
              "    </tr>\n",
              "    <tr>\n",
              "      <th>3</th>\n",
              "      <td>5</td>\n",
              "      <td>ICOMP</td>\n",
              "      <td>International Conference on Internet Computing</td>\n",
              "      <td>http://www.informatik.uni-trier.de/~ley/db/con...</td>\n",
              "    </tr>\n",
              "    <tr>\n",
              "      <th>4</th>\n",
              "      <td>6</td>\n",
              "      <td>ICAC</td>\n",
              "      <td>International Conference on Autonomic Computing</td>\n",
              "      <td>http://www.autonomic-conference.org/</td>\n",
              "    </tr>\n",
              "  </tbody>\n",
              "</table>\n",
              "</div>"
            ],
            "text/plain": [
              "   Id  ...                                           HomePage\n",
              "0   1  ...                                                NaN\n",
              "1   2  ...  http://www.informatik.uni-trier.de/~ley/db/con...\n",
              "2   4  ...  http://www.informatik.uni-trier.de/~ley/db/con...\n",
              "3   5  ...  http://www.informatik.uni-trier.de/~ley/db/con...\n",
              "4   6  ...               http://www.autonomic-conference.org/\n",
              "\n",
              "[5 rows x 4 columns]"
            ]
          },
          "metadata": {
            "tags": []
          },
          "execution_count": 5
        }
      ]
    },
    {
      "cell_type": "code",
      "metadata": {
        "colab": {
          "base_uri": "https://localhost:8080/",
          "height": 204
        },
        "id": "EdWMUEk11Hbd",
        "outputId": "8581021c-5123-444a-ea24-f66cef34134e"
      },
      "source": [
        "journal=pd.read_csv(url+'Journal.csv')\n",
        "journal.drop_duplicates(keep='first',inplace=True,ignore_index=True)\n",
        "journal.head()"
      ],
      "execution_count": null,
      "outputs": [
        {
          "output_type": "execute_result",
          "data": {
            "text/html": [
              "<div>\n",
              "<style scoped>\n",
              "    .dataframe tbody tr th:only-of-type {\n",
              "        vertical-align: middle;\n",
              "    }\n",
              "\n",
              "    .dataframe tbody tr th {\n",
              "        vertical-align: top;\n",
              "    }\n",
              "\n",
              "    .dataframe thead th {\n",
              "        text-align: right;\n",
              "    }\n",
              "</style>\n",
              "<table border=\"1\" class=\"dataframe\">\n",
              "  <thead>\n",
              "    <tr style=\"text-align: right;\">\n",
              "      <th></th>\n",
              "      <th>Id</th>\n",
              "      <th>ShortName</th>\n",
              "      <th>FullName</th>\n",
              "      <th>HomePage</th>\n",
              "    </tr>\n",
              "  </thead>\n",
              "  <tbody>\n",
              "    <tr>\n",
              "      <th>0</th>\n",
              "      <td>1</td>\n",
              "      <td>ICOM</td>\n",
              "      <td>Zeitschrift Für Interaktive Und Kooperative Me...</td>\n",
              "      <td>http://www.i-com-media.de</td>\n",
              "    </tr>\n",
              "    <tr>\n",
              "      <th>1</th>\n",
              "      <td>2</td>\n",
              "      <td>AEPIA</td>\n",
              "      <td>Inteligencia Artificial,revista Iberoamericana...</td>\n",
              "      <td>http://aepia.dsic.upv.es/revista/</td>\n",
              "    </tr>\n",
              "    <tr>\n",
              "      <th>2</th>\n",
              "      <td>3</td>\n",
              "      <td>IBMRD</td>\n",
              "      <td>Ibm Journal of Research and Development</td>\n",
              "      <td>http://www-tr.watson.ibm.com/journal/rdindex.html</td>\n",
              "    </tr>\n",
              "    <tr>\n",
              "      <th>3</th>\n",
              "      <td>4</td>\n",
              "      <td>IBMSJ</td>\n",
              "      <td>Ibm Systems Journal</td>\n",
              "      <td>http://researchweb.watson.ibm.com/journal/</td>\n",
              "    </tr>\n",
              "    <tr>\n",
              "      <th>4</th>\n",
              "      <td>5</td>\n",
              "      <td>NaN</td>\n",
              "      <td>Iet Software/iee Proceedings - Software</td>\n",
              "      <td>http://www.ietdl.org/IET-SEN</td>\n",
              "    </tr>\n",
              "  </tbody>\n",
              "</table>\n",
              "</div>"
            ],
            "text/plain": [
              "   Id  ...                                           HomePage\n",
              "0   1  ...                          http://www.i-com-media.de\n",
              "1   2  ...                  http://aepia.dsic.upv.es/revista/\n",
              "2   3  ...  http://www-tr.watson.ibm.com/journal/rdindex.html\n",
              "3   4  ...         http://researchweb.watson.ibm.com/journal/\n",
              "4   5  ...                       http://www.ietdl.org/IET-SEN\n",
              "\n",
              "[5 rows x 4 columns]"
            ]
          },
          "metadata": {
            "tags": []
          },
          "execution_count": 6
        }
      ]
    },
    {
      "cell_type": "code",
      "metadata": {
        "colab": {
          "base_uri": "https://localhost:8080/",
          "height": 204
        },
        "id": "OSEN-Ktm1xfY",
        "outputId": "22348b36-33ad-43f8-85cc-b0b224c4d266"
      },
      "source": [
        "paper=pd.read_csv(url+'Paper.csv')\n",
        "paper.drop_duplicates(keep='first',inplace=True,ignore_index=True)\n",
        "paper.head()"
      ],
      "execution_count": null,
      "outputs": [
        {
          "output_type": "execute_result",
          "data": {
            "text/html": [
              "<div>\n",
              "<style scoped>\n",
              "    .dataframe tbody tr th:only-of-type {\n",
              "        vertical-align: middle;\n",
              "    }\n",
              "\n",
              "    .dataframe tbody tr th {\n",
              "        vertical-align: top;\n",
              "    }\n",
              "\n",
              "    .dataframe thead th {\n",
              "        text-align: right;\n",
              "    }\n",
              "</style>\n",
              "<table border=\"1\" class=\"dataframe\">\n",
              "  <thead>\n",
              "    <tr style=\"text-align: right;\">\n",
              "      <th></th>\n",
              "      <th>Id</th>\n",
              "      <th>Title</th>\n",
              "      <th>Year</th>\n",
              "      <th>ConferenceId</th>\n",
              "      <th>JournalId</th>\n",
              "      <th>Keyword</th>\n",
              "    </tr>\n",
              "  </thead>\n",
              "  <tbody>\n",
              "    <tr>\n",
              "      <th>0</th>\n",
              "      <td>1</td>\n",
              "      <td>Stitching videos streamed by mobile phones in ...</td>\n",
              "      <td>2009</td>\n",
              "      <td>167</td>\n",
              "      <td>0</td>\n",
              "      <td>mobile video capturing|real-time|video stitching</td>\n",
              "    </tr>\n",
              "    <tr>\n",
              "      <th>1</th>\n",
              "      <td>2</td>\n",
              "      <td>A nonlocal convection–diffusion equation</td>\n",
              "      <td>2007</td>\n",
              "      <td>0</td>\n",
              "      <td>7234</td>\n",
              "      <td>Nonlocal diffusion; Convection–diffusion; Asym...</td>\n",
              "    </tr>\n",
              "    <tr>\n",
              "      <th>2</th>\n",
              "      <td>3</td>\n",
              "      <td>Area Effects in Cepaea</td>\n",
              "      <td>1963</td>\n",
              "      <td>0</td>\n",
              "      <td>16867</td>\n",
              "      <td>NaN</td>\n",
              "    </tr>\n",
              "    <tr>\n",
              "      <th>3</th>\n",
              "      <td>4</td>\n",
              "      <td>Multiple paternity in a natural population of ...</td>\n",
              "      <td>2005</td>\n",
              "      <td>0</td>\n",
              "      <td>6130</td>\n",
              "      <td>NaN</td>\n",
              "    </tr>\n",
              "    <tr>\n",
              "      <th>4</th>\n",
              "      <td>5</td>\n",
              "      <td>Complexity of Finding Short Resolution Proofs</td>\n",
              "      <td>1997</td>\n",
              "      <td>158</td>\n",
              "      <td>0</td>\n",
              "      <td>NaN</td>\n",
              "    </tr>\n",
              "  </tbody>\n",
              "</table>\n",
              "</div>"
            ],
            "text/plain": [
              "   Id  ...                                            Keyword\n",
              "0   1  ...   mobile video capturing|real-time|video stitching\n",
              "1   2  ...  Nonlocal diffusion; Convection–diffusion; Asym...\n",
              "2   3  ...                                                NaN\n",
              "3   4  ...                                                NaN\n",
              "4   5  ...                                                NaN\n",
              "\n",
              "[5 rows x 6 columns]"
            ]
          },
          "metadata": {
            "tags": []
          },
          "execution_count": 7
        }
      ]
    },
    {
      "cell_type": "code",
      "metadata": {
        "colab": {
          "base_uri": "https://localhost:8080/",
          "height": 204
        },
        "id": "Xpzl9G4K2EVR",
        "outputId": "e7fd450c-3f52-4754-f4e9-5eafaf72a6fa"
      },
      "source": [
        "paperauthor=pd.read_csv(url+'PaperAuthor.csv')\n",
        "paperauthor.drop_duplicates(keep='first',inplace=True,ignore_index=True)\n",
        "paperauthor.head()"
      ],
      "execution_count": null,
      "outputs": [
        {
          "output_type": "execute_result",
          "data": {
            "text/html": [
              "<div>\n",
              "<style scoped>\n",
              "    .dataframe tbody tr th:only-of-type {\n",
              "        vertical-align: middle;\n",
              "    }\n",
              "\n",
              "    .dataframe tbody tr th {\n",
              "        vertical-align: top;\n",
              "    }\n",
              "\n",
              "    .dataframe thead th {\n",
              "        text-align: right;\n",
              "    }\n",
              "</style>\n",
              "<table border=\"1\" class=\"dataframe\">\n",
              "  <thead>\n",
              "    <tr style=\"text-align: right;\">\n",
              "      <th></th>\n",
              "      <th>PaperId</th>\n",
              "      <th>AuthorId</th>\n",
              "      <th>Name</th>\n",
              "      <th>Affiliation</th>\n",
              "    </tr>\n",
              "  </thead>\n",
              "  <tbody>\n",
              "    <tr>\n",
              "      <th>0</th>\n",
              "      <td>1</td>\n",
              "      <td>521630</td>\n",
              "      <td>Ayman Kaheel</td>\n",
              "      <td>Cairo Microsoft Innovation Lab</td>\n",
              "    </tr>\n",
              "    <tr>\n",
              "      <th>1</th>\n",
              "      <td>1</td>\n",
              "      <td>972575</td>\n",
              "      <td>Mahmoud Refaat</td>\n",
              "      <td>Cairo Microsoft Innovation Lab</td>\n",
              "    </tr>\n",
              "    <tr>\n",
              "      <th>2</th>\n",
              "      <td>1</td>\n",
              "      <td>1528710</td>\n",
              "      <td>Ahmed Abdul-hamid</td>\n",
              "      <td>Cairo Microsoft Innovation Lab</td>\n",
              "    </tr>\n",
              "    <tr>\n",
              "      <th>3</th>\n",
              "      <td>1</td>\n",
              "      <td>1611750</td>\n",
              "      <td>Motaz Ahmad El-saban</td>\n",
              "      <td>Cairo Microsoft Innovation Lab</td>\n",
              "    </tr>\n",
              "    <tr>\n",
              "      <th>4</th>\n",
              "      <td>2</td>\n",
              "      <td>1682088</td>\n",
              "      <td>Julio D. Rossi</td>\n",
              "      <td>Departamento Matemática, FCEyN UBA (1428) Buen...</td>\n",
              "    </tr>\n",
              "  </tbody>\n",
              "</table>\n",
              "</div>"
            ],
            "text/plain": [
              "   PaperId  ...                                        Affiliation\n",
              "0        1  ...                     Cairo Microsoft Innovation Lab\n",
              "1        1  ...                     Cairo Microsoft Innovation Lab\n",
              "2        1  ...                     Cairo Microsoft Innovation Lab\n",
              "3        1  ...                     Cairo Microsoft Innovation Lab\n",
              "4        2  ...  Departamento Matemática, FCEyN UBA (1428) Buen...\n",
              "\n",
              "[5 rows x 4 columns]"
            ]
          },
          "metadata": {
            "tags": []
          },
          "execution_count": 8
        }
      ]
    },
    {
      "cell_type": "code",
      "metadata": {
        "colab": {
          "base_uri": "https://localhost:8080/",
          "height": 204
        },
        "id": "U2U8Unyb2ktp",
        "outputId": "b528e145-3ed8-4059-a216-46f9f965f192"
      },
      "source": [
        "train=pd.read_csv(url+'Train.csv')\n",
        "train.drop_duplicates(keep='first',inplace=True,ignore_index=True)\n",
        "train.head()"
      ],
      "execution_count": null,
      "outputs": [
        {
          "output_type": "execute_result",
          "data": {
            "text/html": [
              "<div>\n",
              "<style scoped>\n",
              "    .dataframe tbody tr th:only-of-type {\n",
              "        vertical-align: middle;\n",
              "    }\n",
              "\n",
              "    .dataframe tbody tr th {\n",
              "        vertical-align: top;\n",
              "    }\n",
              "\n",
              "    .dataframe thead th {\n",
              "        text-align: right;\n",
              "    }\n",
              "</style>\n",
              "<table border=\"1\" class=\"dataframe\">\n",
              "  <thead>\n",
              "    <tr style=\"text-align: right;\">\n",
              "      <th></th>\n",
              "      <th>AuthorId</th>\n",
              "      <th>ConfirmedPaperIds</th>\n",
              "      <th>DeletedPaperIds</th>\n",
              "    </tr>\n",
              "  </thead>\n",
              "  <tbody>\n",
              "    <tr>\n",
              "      <th>0</th>\n",
              "      <td>826</td>\n",
              "      <td>25733 47276 77012 79468 87141 101385 104556 11...</td>\n",
              "      <td>220293 379873 384468 565252 939749 944658 1164...</td>\n",
              "    </tr>\n",
              "    <tr>\n",
              "      <th>1</th>\n",
              "      <td>933</td>\n",
              "      <td>1739240</td>\n",
              "      <td>477879</td>\n",
              "    </tr>\n",
              "    <tr>\n",
              "      <th>2</th>\n",
              "      <td>1118</td>\n",
              "      <td>49963 93433 341015 415282 488635 517119 521922...</td>\n",
              "      <td>961444 1446566</td>\n",
              "    </tr>\n",
              "    <tr>\n",
              "      <th>3</th>\n",
              "      <td>2783</td>\n",
              "      <td>154377 212636 334024 350747 696269 704564 1241...</td>\n",
              "      <td>208521 1207662 1898210</td>\n",
              "    </tr>\n",
              "    <tr>\n",
              "      <th>4</th>\n",
              "      <td>3105</td>\n",
              "      <td>603562 647574 792910 844605 863071 878798 1082...</td>\n",
              "      <td>191079 226980 273592 529834 556687 1052455 131...</td>\n",
              "    </tr>\n",
              "  </tbody>\n",
              "</table>\n",
              "</div>"
            ],
            "text/plain": [
              "   AuthorId  ...                                    DeletedPaperIds\n",
              "0       826  ...  220293 379873 384468 565252 939749 944658 1164...\n",
              "1       933  ...                                             477879\n",
              "2      1118  ...                                     961444 1446566\n",
              "3      2783  ...                             208521 1207662 1898210\n",
              "4      3105  ...  191079 226980 273592 529834 556687 1052455 131...\n",
              "\n",
              "[5 rows x 3 columns]"
            ]
          },
          "metadata": {
            "tags": []
          },
          "execution_count": 9
        }
      ]
    },
    {
      "cell_type": "code",
      "metadata": {
        "colab": {
          "base_uri": "https://localhost:8080/",
          "height": 204
        },
        "id": "FQ2-oZRv22_1",
        "outputId": "dbf00669-249f-4a13-fc50-90f133bc4f32"
      },
      "source": [
        "test=pd.read_csv(url+'Valid.csv')\n",
        "test.drop_duplicates(keep='first',inplace=True,ignore_index=True)\n",
        "test.head()"
      ],
      "execution_count": null,
      "outputs": [
        {
          "output_type": "execute_result",
          "data": {
            "text/html": [
              "<div>\n",
              "<style scoped>\n",
              "    .dataframe tbody tr th:only-of-type {\n",
              "        vertical-align: middle;\n",
              "    }\n",
              "\n",
              "    .dataframe tbody tr th {\n",
              "        vertical-align: top;\n",
              "    }\n",
              "\n",
              "    .dataframe thead th {\n",
              "        text-align: right;\n",
              "    }\n",
              "</style>\n",
              "<table border=\"1\" class=\"dataframe\">\n",
              "  <thead>\n",
              "    <tr style=\"text-align: right;\">\n",
              "      <th></th>\n",
              "      <th>AuthorId</th>\n",
              "      <th>PaperIds</th>\n",
              "    </tr>\n",
              "  </thead>\n",
              "  <tbody>\n",
              "    <tr>\n",
              "      <th>0</th>\n",
              "      <td>55</td>\n",
              "      <td>2507 15471 19294 20444 24074 25103 25304 36459...</td>\n",
              "    </tr>\n",
              "    <tr>\n",
              "      <th>1</th>\n",
              "      <td>426</td>\n",
              "      <td>873 37257 92584 174625 212235 284639 581263 60...</td>\n",
              "    </tr>\n",
              "    <tr>\n",
              "      <th>2</th>\n",
              "      <td>1861</td>\n",
              "      <td>59550 124595 282043 528639 922192 1048827 1059...</td>\n",
              "    </tr>\n",
              "    <tr>\n",
              "      <th>3</th>\n",
              "      <td>10212</td>\n",
              "      <td>24013 49767 131299 173546 195044 199989 213826...</td>\n",
              "    </tr>\n",
              "    <tr>\n",
              "      <th>4</th>\n",
              "      <td>10275</td>\n",
              "      <td>300441 358576 368138 389312 871240 876311 9952...</td>\n",
              "    </tr>\n",
              "  </tbody>\n",
              "</table>\n",
              "</div>"
            ],
            "text/plain": [
              "   AuthorId                                           PaperIds\n",
              "0        55  2507 15471 19294 20444 24074 25103 25304 36459...\n",
              "1       426  873 37257 92584 174625 212235 284639 581263 60...\n",
              "2      1861  59550 124595 282043 528639 922192 1048827 1059...\n",
              "3     10212  24013 49767 131299 173546 195044 199989 213826...\n",
              "4     10275  300441 358576 368138 389312 871240 876311 9952..."
            ]
          },
          "metadata": {
            "tags": []
          },
          "execution_count": 10
        }
      ]
    },
    {
      "cell_type": "markdown",
      "metadata": {
        "id": "MYdvMopG5dj0"
      },
      "source": [
        "Paperauthor is the source dataset so i am going to join the rest of tables to it :p "
      ]
    },
    {
      "cell_type": "code",
      "metadata": {
        "colab": {
          "base_uri": "https://localhost:8080/",
          "height": 632
        },
        "id": "g4Sb5VLp3FuL",
        "outputId": "9670a49e-545f-47ca-cf6c-1df20755c44e"
      },
      "source": [
        "#add the paper dataset\n",
        "full_dataset=paperauthor.merge(paper,left_on='PaperId',right_on='Id',how='left')\n",
        "full_dataset.drop('Id',axis=1,inplace=True)\n",
        "#add the conference dataset\n",
        "full_dataset=full_dataset.merge(conference,left_on='ConferenceId',right_on='Id',how='left')\n",
        "full_dataset.drop('Id',axis=1,inplace=True)\n",
        "full_dataset=full_dataset.rename(columns={'FullName':'ConferenceName','ShortName':'ConferenceShortName','HomePage':'ConferenceHomePage'})\n",
        "#add the journal dataset\n",
        "full_dataset=full_dataset.merge(journal,left_on='JournalId',right_on='Id',how='left')\n",
        "full_dataset=full_dataset.rename(columns={'FullName':'JournalName','ShortName':'JournalShortName','HomePage':'JournalHomePage'})\n",
        "full_dataset.drop('Id',axis=1,inplace=True)\n",
        "\n",
        "full_dataset.head()\n"
      ],
      "execution_count": null,
      "outputs": [
        {
          "output_type": "execute_result",
          "data": {
            "text/html": [
              "<div>\n",
              "<style scoped>\n",
              "    .dataframe tbody tr th:only-of-type {\n",
              "        vertical-align: middle;\n",
              "    }\n",
              "\n",
              "    .dataframe tbody tr th {\n",
              "        vertical-align: top;\n",
              "    }\n",
              "\n",
              "    .dataframe thead th {\n",
              "        text-align: right;\n",
              "    }\n",
              "</style>\n",
              "<table border=\"1\" class=\"dataframe\">\n",
              "  <thead>\n",
              "    <tr style=\"text-align: right;\">\n",
              "      <th></th>\n",
              "      <th>PaperId</th>\n",
              "      <th>AuthorId</th>\n",
              "      <th>Name</th>\n",
              "      <th>Affiliation</th>\n",
              "      <th>Title</th>\n",
              "      <th>Year</th>\n",
              "      <th>ConferenceId</th>\n",
              "      <th>JournalId</th>\n",
              "      <th>Keyword</th>\n",
              "      <th>ConferenceShortName</th>\n",
              "      <th>ConferenceName</th>\n",
              "      <th>ConferenceHomePage</th>\n",
              "      <th>JournalShortName</th>\n",
              "      <th>JournalName</th>\n",
              "      <th>JournalHomePage</th>\n",
              "    </tr>\n",
              "  </thead>\n",
              "  <tbody>\n",
              "    <tr>\n",
              "      <th>0</th>\n",
              "      <td>1</td>\n",
              "      <td>521630</td>\n",
              "      <td>Ayman Kaheel</td>\n",
              "      <td>Cairo Microsoft Innovation Lab</td>\n",
              "      <td>Stitching videos streamed by mobile phones in ...</td>\n",
              "      <td>2009.0</td>\n",
              "      <td>167.0</td>\n",
              "      <td>0.0</td>\n",
              "      <td>mobile video capturing|real-time|video stitching</td>\n",
              "      <td>MM</td>\n",
              "      <td>ACM Multimedia Conference</td>\n",
              "      <td>http://acmmm2011.utdallas.edu/page14.html</td>\n",
              "      <td>NaN</td>\n",
              "      <td>NaN</td>\n",
              "      <td>NaN</td>\n",
              "    </tr>\n",
              "    <tr>\n",
              "      <th>1</th>\n",
              "      <td>1</td>\n",
              "      <td>972575</td>\n",
              "      <td>Mahmoud Refaat</td>\n",
              "      <td>Cairo Microsoft Innovation Lab</td>\n",
              "      <td>Stitching videos streamed by mobile phones in ...</td>\n",
              "      <td>2009.0</td>\n",
              "      <td>167.0</td>\n",
              "      <td>0.0</td>\n",
              "      <td>mobile video capturing|real-time|video stitching</td>\n",
              "      <td>MM</td>\n",
              "      <td>ACM Multimedia Conference</td>\n",
              "      <td>http://acmmm2011.utdallas.edu/page14.html</td>\n",
              "      <td>NaN</td>\n",
              "      <td>NaN</td>\n",
              "      <td>NaN</td>\n",
              "    </tr>\n",
              "    <tr>\n",
              "      <th>2</th>\n",
              "      <td>1</td>\n",
              "      <td>1528710</td>\n",
              "      <td>Ahmed Abdul-hamid</td>\n",
              "      <td>Cairo Microsoft Innovation Lab</td>\n",
              "      <td>Stitching videos streamed by mobile phones in ...</td>\n",
              "      <td>2009.0</td>\n",
              "      <td>167.0</td>\n",
              "      <td>0.0</td>\n",
              "      <td>mobile video capturing|real-time|video stitching</td>\n",
              "      <td>MM</td>\n",
              "      <td>ACM Multimedia Conference</td>\n",
              "      <td>http://acmmm2011.utdallas.edu/page14.html</td>\n",
              "      <td>NaN</td>\n",
              "      <td>NaN</td>\n",
              "      <td>NaN</td>\n",
              "    </tr>\n",
              "    <tr>\n",
              "      <th>3</th>\n",
              "      <td>1</td>\n",
              "      <td>1611750</td>\n",
              "      <td>Motaz Ahmad El-saban</td>\n",
              "      <td>Cairo Microsoft Innovation Lab</td>\n",
              "      <td>Stitching videos streamed by mobile phones in ...</td>\n",
              "      <td>2009.0</td>\n",
              "      <td>167.0</td>\n",
              "      <td>0.0</td>\n",
              "      <td>mobile video capturing|real-time|video stitching</td>\n",
              "      <td>MM</td>\n",
              "      <td>ACM Multimedia Conference</td>\n",
              "      <td>http://acmmm2011.utdallas.edu/page14.html</td>\n",
              "      <td>NaN</td>\n",
              "      <td>NaN</td>\n",
              "      <td>NaN</td>\n",
              "    </tr>\n",
              "    <tr>\n",
              "      <th>4</th>\n",
              "      <td>2</td>\n",
              "      <td>1682088</td>\n",
              "      <td>Julio D. Rossi</td>\n",
              "      <td>Departamento Matemática, FCEyN UBA (1428) Buen...</td>\n",
              "      <td>A nonlocal convection–diffusion equation</td>\n",
              "      <td>2007.0</td>\n",
              "      <td>0.0</td>\n",
              "      <td>7234.0</td>\n",
              "      <td>Nonlocal diffusion; Convection–diffusion; Asym...</td>\n",
              "      <td>NaN</td>\n",
              "      <td>NaN</td>\n",
              "      <td>NaN</td>\n",
              "      <td>J FUNCT ANAL</td>\n",
              "      <td>Journal of Functional Analysis</td>\n",
              "      <td>http://www.sciencedirect.com/science/journal/0...</td>\n",
              "    </tr>\n",
              "  </tbody>\n",
              "</table>\n",
              "</div>"
            ],
            "text/plain": [
              "   PaperId  ...                                    JournalHomePage\n",
              "0        1  ...                                                NaN\n",
              "1        1  ...                                                NaN\n",
              "2        1  ...                                                NaN\n",
              "3        1  ...                                                NaN\n",
              "4        2  ...  http://www.sciencedirect.com/science/journal/0...\n",
              "\n",
              "[5 rows x 15 columns]"
            ]
          },
          "metadata": {
            "tags": []
          },
          "execution_count": 11
        }
      ]
    },
    {
      "cell_type": "code",
      "metadata": {
        "id": "IJ1U1TQp-XK7"
      },
      "source": [
        "full_dataset.drop('Name',axis=1,inplace=True)"
      ],
      "execution_count": null,
      "outputs": []
    },
    {
      "cell_type": "code",
      "metadata": {
        "id": "TCSBz5rV9_nR"
      },
      "source": [
        "full_dataset.Affiliation=[str(x) for x in full_dataset.Affiliation]\n",
        "full_dataset.Keyword=[str(x) for x in full_dataset.Keyword]\n",
        "full_dataset.JournalName=[str(x) for x in full_dataset.JournalName]\n",
        "full_dataset.ConferenceShortName=[str(x) for x in full_dataset.ConferenceShortName]\n",
        "full_dataset.JournalShortName=[str(x) for x in full_dataset.JournalShortName]\n",
        "full_dataset.ConferenceName=[str(x) for x in full_dataset.ConferenceName]"
      ],
      "execution_count": null,
      "outputs": []
    },
    {
      "cell_type": "code",
      "metadata": {
        "id": "rxW55fHMZe_D"
      },
      "source": [
        "le=LabelEncoder()\n",
        "le.fit(np.array(full_dataset.Affiliation))\n",
        "full_dataset.Affiliation=le.transform(full_dataset.Affiliation)"
      ],
      "execution_count": null,
      "outputs": []
    },
    {
      "cell_type": "code",
      "metadata": {
        "id": "TM1th_2rLM_8"
      },
      "source": [
        "le=LabelEncoder()\n",
        "le.fit(np.array(full_dataset.Keyword))\n",
        "full_dataset.Keyword=le.transform(full_dataset.Keyword)\n"
      ],
      "execution_count": null,
      "outputs": []
    },
    {
      "cell_type": "code",
      "metadata": {
        "id": "AxkOu5gV5nwG"
      },
      "source": [
        "le=LabelEncoder()\n",
        "le.fit(np.array(full_dataset.ConferenceShortName))\n",
        "full_dataset.ConferenceShortName=le.transform(full_dataset.ConferenceShortName)"
      ],
      "execution_count": null,
      "outputs": []
    },
    {
      "cell_type": "code",
      "metadata": {
        "id": "3fZbWXip6xLs"
      },
      "source": [
        "le=LabelEncoder()\n",
        "le.fit(np.array(full_dataset.ConferenceShortName))\n",
        "full_dataset.ConferenceShortName=le.transform(full_dataset.ConferenceShortName)"
      ],
      "execution_count": null,
      "outputs": []
    },
    {
      "cell_type": "code",
      "metadata": {
        "id": "NWWZspt88UxH"
      },
      "source": [
        "le=LabelEncoder()\n",
        "le.fit(np.array(full_dataset.ConferenceName))\n",
        "full_dataset.ConferenceName=le.transform(full_dataset.ConferenceName)"
      ],
      "execution_count": null,
      "outputs": []
    },
    {
      "cell_type": "code",
      "metadata": {
        "id": "e0WOjPvj8m99"
      },
      "source": [
        "full_dataset.drop('ConferenceHomePage',axis=True,inplace=True)"
      ],
      "execution_count": null,
      "outputs": []
    },
    {
      "cell_type": "code",
      "metadata": {
        "id": "9mZlCcK39WzE"
      },
      "source": [
        "le=LabelEncoder()\n",
        "le.fit(np.array(full_dataset.JournalShortName))\n",
        "full_dataset.JournalShortName=le.transform(full_dataset.JournalShortName)"
      ],
      "execution_count": null,
      "outputs": []
    },
    {
      "cell_type": "code",
      "metadata": {
        "id": "VYPN6zFw9sKV"
      },
      "source": [
        "le=LabelEncoder()\n",
        "le.fit(np.array(full_dataset.JournalName))\n",
        "full_dataset.JournalName=le.transform(full_dataset.JournalName)"
      ],
      "execution_count": null,
      "outputs": []
    },
    {
      "cell_type": "code",
      "metadata": {
        "id": "iqrUNANd_VUU"
      },
      "source": [
        "full_dataset.drop('JournalHomePage',axis=1,inplace=True)"
      ],
      "execution_count": null,
      "outputs": []
    },
    {
      "cell_type": "code",
      "metadata": {
        "id": "k470PXFh_iRc"
      },
      "source": [
        "full_dataset.drop('Title',axis=1,inplace=True)"
      ],
      "execution_count": null,
      "outputs": []
    },
    {
      "cell_type": "code",
      "metadata": {
        "colab": {
          "base_uri": "https://localhost:8080/",
          "height": 224
        },
        "id": "1pUYeg9Ce9rS",
        "outputId": "2b6e4cb4-753e-4376-bd15-d62e0ae07798"
      },
      "source": [
        "full_dataset.head()"
      ],
      "execution_count": null,
      "outputs": [
        {
          "output_type": "execute_result",
          "data": {
            "text/html": [
              "<div>\n",
              "<style scoped>\n",
              "    .dataframe tbody tr th:only-of-type {\n",
              "        vertical-align: middle;\n",
              "    }\n",
              "\n",
              "    .dataframe tbody tr th {\n",
              "        vertical-align: top;\n",
              "    }\n",
              "\n",
              "    .dataframe thead th {\n",
              "        text-align: right;\n",
              "    }\n",
              "</style>\n",
              "<table border=\"1\" class=\"dataframe\">\n",
              "  <thead>\n",
              "    <tr style=\"text-align: right;\">\n",
              "      <th></th>\n",
              "      <th>PaperId</th>\n",
              "      <th>AuthorId</th>\n",
              "      <th>Affiliation</th>\n",
              "      <th>Year</th>\n",
              "      <th>ConferenceId</th>\n",
              "      <th>JournalId</th>\n",
              "      <th>Keyword</th>\n",
              "      <th>ConferenceShortName</th>\n",
              "      <th>ConferenceName</th>\n",
              "      <th>JournalShortName</th>\n",
              "      <th>JournalName</th>\n",
              "    </tr>\n",
              "  </thead>\n",
              "  <tbody>\n",
              "    <tr>\n",
              "      <th>0</th>\n",
              "      <td>1</td>\n",
              "      <td>521630</td>\n",
              "      <td>54309</td>\n",
              "      <td>2009.0</td>\n",
              "      <td>167.0</td>\n",
              "      <td>0.0</td>\n",
              "      <td>468751</td>\n",
              "      <td>2478</td>\n",
              "      <td>35</td>\n",
              "      <td>8283</td>\n",
              "      <td>15106</td>\n",
              "    </tr>\n",
              "    <tr>\n",
              "      <th>1</th>\n",
              "      <td>1</td>\n",
              "      <td>972575</td>\n",
              "      <td>54309</td>\n",
              "      <td>2009.0</td>\n",
              "      <td>167.0</td>\n",
              "      <td>0.0</td>\n",
              "      <td>468751</td>\n",
              "      <td>2478</td>\n",
              "      <td>35</td>\n",
              "      <td>8283</td>\n",
              "      <td>15106</td>\n",
              "    </tr>\n",
              "    <tr>\n",
              "      <th>2</th>\n",
              "      <td>1</td>\n",
              "      <td>1528710</td>\n",
              "      <td>54309</td>\n",
              "      <td>2009.0</td>\n",
              "      <td>167.0</td>\n",
              "      <td>0.0</td>\n",
              "      <td>468751</td>\n",
              "      <td>2478</td>\n",
              "      <td>35</td>\n",
              "      <td>8283</td>\n",
              "      <td>15106</td>\n",
              "    </tr>\n",
              "    <tr>\n",
              "      <th>3</th>\n",
              "      <td>1</td>\n",
              "      <td>1611750</td>\n",
              "      <td>54309</td>\n",
              "      <td>2009.0</td>\n",
              "      <td>167.0</td>\n",
              "      <td>0.0</td>\n",
              "      <td>468751</td>\n",
              "      <td>2478</td>\n",
              "      <td>35</td>\n",
              "      <td>8283</td>\n",
              "      <td>15106</td>\n",
              "    </tr>\n",
              "    <tr>\n",
              "      <th>4</th>\n",
              "      <td>2</td>\n",
              "      <td>1682088</td>\n",
              "      <td>123799</td>\n",
              "      <td>2007.0</td>\n",
              "      <td>0.0</td>\n",
              "      <td>7234.0</td>\n",
              "      <td>339185</td>\n",
              "      <td>3691</td>\n",
              "      <td>4473</td>\n",
              "      <td>4682</td>\n",
              "      <td>8398</td>\n",
              "    </tr>\n",
              "  </tbody>\n",
              "</table>\n",
              "</div>"
            ],
            "text/plain": [
              "   PaperId  AuthorId  ...  JournalShortName  JournalName\n",
              "0        1    521630  ...              8283        15106\n",
              "1        1    972575  ...              8283        15106\n",
              "2        1   1528710  ...              8283        15106\n",
              "3        1   1611750  ...              8283        15106\n",
              "4        2   1682088  ...              4682         8398\n",
              "\n",
              "[5 rows x 11 columns]"
            ]
          },
          "metadata": {
            "tags": []
          },
          "execution_count": 24
        }
      ]
    },
    {
      "cell_type": "code",
      "metadata": {
        "colab": {
          "base_uri": "https://localhost:8080/",
          "height": 224
        },
        "id": "q2bbQcf4c6Tw",
        "outputId": "732c7c05-e67a-40dc-e58b-6b7867bddeaa"
      },
      "source": [
        "full_train=full_dataset.loc[full_dataset.AuthorId.isin(train.AuthorId),:]\n",
        "full_train.index=range(full_train.shape[0])\n",
        "full_train.head()"
      ],
      "execution_count": null,
      "outputs": [
        {
          "output_type": "execute_result",
          "data": {
            "text/html": [
              "<div>\n",
              "<style scoped>\n",
              "    .dataframe tbody tr th:only-of-type {\n",
              "        vertical-align: middle;\n",
              "    }\n",
              "\n",
              "    .dataframe tbody tr th {\n",
              "        vertical-align: top;\n",
              "    }\n",
              "\n",
              "    .dataframe thead th {\n",
              "        text-align: right;\n",
              "    }\n",
              "</style>\n",
              "<table border=\"1\" class=\"dataframe\">\n",
              "  <thead>\n",
              "    <tr style=\"text-align: right;\">\n",
              "      <th></th>\n",
              "      <th>PaperId</th>\n",
              "      <th>AuthorId</th>\n",
              "      <th>Affiliation</th>\n",
              "      <th>Year</th>\n",
              "      <th>ConferenceId</th>\n",
              "      <th>JournalId</th>\n",
              "      <th>Keyword</th>\n",
              "      <th>ConferenceShortName</th>\n",
              "      <th>ConferenceName</th>\n",
              "      <th>JournalShortName</th>\n",
              "      <th>JournalName</th>\n",
              "    </tr>\n",
              "  </thead>\n",
              "  <tbody>\n",
              "    <tr>\n",
              "      <th>0</th>\n",
              "      <td>8</td>\n",
              "      <td>318484</td>\n",
              "      <td>718871</td>\n",
              "      <td>1985.0</td>\n",
              "      <td>0.0</td>\n",
              "      <td>4084.0</td>\n",
              "      <td>470435</td>\n",
              "      <td>3691</td>\n",
              "      <td>4473</td>\n",
              "      <td>6669</td>\n",
              "      <td>11776</td>\n",
              "    </tr>\n",
              "    <tr>\n",
              "      <th>1</th>\n",
              "      <td>9</td>\n",
              "      <td>2151636</td>\n",
              "      <td>570520</td>\n",
              "      <td>2005.0</td>\n",
              "      <td>0.0</td>\n",
              "      <td>3943.0</td>\n",
              "      <td>293448</td>\n",
              "      <td>3691</td>\n",
              "      <td>4473</td>\n",
              "      <td>8283</td>\n",
              "      <td>11081</td>\n",
              "    </tr>\n",
              "    <tr>\n",
              "      <th>2</th>\n",
              "      <td>10</td>\n",
              "      <td>1925401</td>\n",
              "      <td>557636</td>\n",
              "      <td>0.0</td>\n",
              "      <td>0.0</td>\n",
              "      <td>0.0</td>\n",
              "      <td>470435</td>\n",
              "      <td>3691</td>\n",
              "      <td>4473</td>\n",
              "      <td>8283</td>\n",
              "      <td>15106</td>\n",
              "    </tr>\n",
              "    <tr>\n",
              "      <th>3</th>\n",
              "      <td>12</td>\n",
              "      <td>2074708</td>\n",
              "      <td>789791</td>\n",
              "      <td>2003.0</td>\n",
              "      <td>1231.0</td>\n",
              "      <td>0.0</td>\n",
              "      <td>470435</td>\n",
              "      <td>2047</td>\n",
              "      <td>1190</td>\n",
              "      <td>8283</td>\n",
              "      <td>15106</td>\n",
              "    </tr>\n",
              "    <tr>\n",
              "      <th>4</th>\n",
              "      <td>12</td>\n",
              "      <td>2074708</td>\n",
              "      <td>250331</td>\n",
              "      <td>2003.0</td>\n",
              "      <td>1231.0</td>\n",
              "      <td>0.0</td>\n",
              "      <td>470435</td>\n",
              "      <td>2047</td>\n",
              "      <td>1190</td>\n",
              "      <td>8283</td>\n",
              "      <td>15106</td>\n",
              "    </tr>\n",
              "  </tbody>\n",
              "</table>\n",
              "</div>"
            ],
            "text/plain": [
              "   PaperId  AuthorId  ...  JournalShortName  JournalName\n",
              "0        8    318484  ...              6669        11776\n",
              "1        9   2151636  ...              8283        11081\n",
              "2       10   1925401  ...              8283        15106\n",
              "3       12   2074708  ...              8283        15106\n",
              "4       12   2074708  ...              8283        15106\n",
              "\n",
              "[5 rows x 11 columns]"
            ]
          },
          "metadata": {
            "tags": []
          },
          "execution_count": 25
        }
      ]
    },
    {
      "cell_type": "code",
      "metadata": {
        "id": "k35SLEpmi9--"
      },
      "source": [
        "confirmed=[]\n",
        "for i in range(full_train.shape[0]):\n",
        "  if str(full_train.PaperId[i]) in str(train.loc[train.AuthorId==full_train.AuthorId[i],'ConfirmedPaperIds']).split():\n",
        "    confirmed.append(1)\n",
        "  else:\n",
        "    confirmed.append(0)\n",
        "    "
      ],
      "execution_count": null,
      "outputs": []
    },
    {
      "cell_type": "code",
      "metadata": {
        "colab": {
          "base_uri": "https://localhost:8080/"
        },
        "id": "ffUQu28bsdVy",
        "outputId": "8a251a9c-b64c-4da6-b281-4beb5142b632"
      },
      "source": [
        "full_train=pd.concat([pd.Series(confirmed,name='confirmed'),full_train],axis=1)\n",
        "full_train.head()"
      ],
      "execution_count": null,
      "outputs": [
        {
          "output_type": "execute_result",
          "data": {
            "text/html": [
              "<div>\n",
              "<style scoped>\n",
              "    .dataframe tbody tr th:only-of-type {\n",
              "        vertical-align: middle;\n",
              "    }\n",
              "\n",
              "    .dataframe tbody tr th {\n",
              "        vertical-align: top;\n",
              "    }\n",
              "\n",
              "    .dataframe thead th {\n",
              "        text-align: right;\n",
              "    }\n",
              "</style>\n",
              "<table border=\"1\" class=\"dataframe\">\n",
              "  <thead>\n",
              "    <tr style=\"text-align: right;\">\n",
              "      <th></th>\n",
              "      <th>confirmed</th>\n",
              "      <th>PaperId</th>\n",
              "      <th>AuthorId</th>\n",
              "      <th>Affiliation</th>\n",
              "      <th>Year</th>\n",
              "      <th>ConferenceId</th>\n",
              "      <th>JournalId</th>\n",
              "      <th>Keyword</th>\n",
              "      <th>ConferenceShortName</th>\n",
              "      <th>ConferenceName</th>\n",
              "      <th>JournalShortName</th>\n",
              "      <th>JournalName</th>\n",
              "    </tr>\n",
              "  </thead>\n",
              "  <tbody>\n",
              "    <tr>\n",
              "      <th>0</th>\n",
              "      <td>0</td>\n",
              "      <td>8</td>\n",
              "      <td>318484</td>\n",
              "      <td>718871</td>\n",
              "      <td>1985.0</td>\n",
              "      <td>0.0</td>\n",
              "      <td>4084.0</td>\n",
              "      <td>470435</td>\n",
              "      <td>3691</td>\n",
              "      <td>4473</td>\n",
              "      <td>6669</td>\n",
              "      <td>11776</td>\n",
              "    </tr>\n",
              "    <tr>\n",
              "      <th>1</th>\n",
              "      <td>0</td>\n",
              "      <td>9</td>\n",
              "      <td>2151636</td>\n",
              "      <td>570520</td>\n",
              "      <td>2005.0</td>\n",
              "      <td>0.0</td>\n",
              "      <td>3943.0</td>\n",
              "      <td>293448</td>\n",
              "      <td>3691</td>\n",
              "      <td>4473</td>\n",
              "      <td>8283</td>\n",
              "      <td>11081</td>\n",
              "    </tr>\n",
              "    <tr>\n",
              "      <th>2</th>\n",
              "      <td>0</td>\n",
              "      <td>10</td>\n",
              "      <td>1925401</td>\n",
              "      <td>557636</td>\n",
              "      <td>0.0</td>\n",
              "      <td>0.0</td>\n",
              "      <td>0.0</td>\n",
              "      <td>470435</td>\n",
              "      <td>3691</td>\n",
              "      <td>4473</td>\n",
              "      <td>8283</td>\n",
              "      <td>15106</td>\n",
              "    </tr>\n",
              "    <tr>\n",
              "      <th>3</th>\n",
              "      <td>1</td>\n",
              "      <td>12</td>\n",
              "      <td>2074708</td>\n",
              "      <td>789791</td>\n",
              "      <td>2003.0</td>\n",
              "      <td>1231.0</td>\n",
              "      <td>0.0</td>\n",
              "      <td>470435</td>\n",
              "      <td>2047</td>\n",
              "      <td>1190</td>\n",
              "      <td>8283</td>\n",
              "      <td>15106</td>\n",
              "    </tr>\n",
              "    <tr>\n",
              "      <th>4</th>\n",
              "      <td>1</td>\n",
              "      <td>12</td>\n",
              "      <td>2074708</td>\n",
              "      <td>250331</td>\n",
              "      <td>2003.0</td>\n",
              "      <td>1231.0</td>\n",
              "      <td>0.0</td>\n",
              "      <td>470435</td>\n",
              "      <td>2047</td>\n",
              "      <td>1190</td>\n",
              "      <td>8283</td>\n",
              "      <td>15106</td>\n",
              "    </tr>\n",
              "  </tbody>\n",
              "</table>\n",
              "</div>"
            ],
            "text/plain": [
              "   confirmed  PaperId  AuthorId  ...  ConferenceName  JournalShortName  JournalName\n",
              "0          0        8    318484  ...            4473              6669        11776\n",
              "1          0        9   2151636  ...            4473              8283        11081\n",
              "2          0       10   1925401  ...            4473              8283        15106\n",
              "3          1       12   2074708  ...            1190              8283        15106\n",
              "4          1       12   2074708  ...            1190              8283        15106\n",
              "\n",
              "[5 rows x 12 columns]"
            ]
          },
          "metadata": {
            "tags": []
          },
          "execution_count": 27
        }
      ]
    },
    {
      "cell_type": "code",
      "metadata": {
        "id": "TWGyEKpaQzS9"
      },
      "source": [
        "full_train.dropna(inplace=True)"
      ],
      "execution_count": null,
      "outputs": []
    },
    {
      "cell_type": "code",
      "metadata": {
        "id": "7s1uNr9juWJg"
      },
      "source": [
        "x=full_train.drop('confirmed',axis=1).values\n",
        "y=full_train.confirmed.values"
      ],
      "execution_count": null,
      "outputs": []
    },
    {
      "cell_type": "code",
      "metadata": {
        "id": "_0K8ZKye3b8f"
      },
      "source": [
        "x_train,x_test,y_train,y_test=train_test_split(x,y,test_size=0.5)"
      ],
      "execution_count": null,
      "outputs": []
    },
    {
      "cell_type": "code",
      "metadata": {
        "colab": {
          "base_uri": "https://localhost:8080/"
        },
        "id": "UTYa-hl0L6SM",
        "outputId": "458b1542-5a57-4866-ea43-fc1a06d7f4b5"
      },
      "source": [
        "full_test=full_dataset.loc[full_dataset.AuthorId.isin(test.AuthorId),:]\n",
        "full_test.index=range(full_test.shape[0])\n",
        "full_test.dropna(inplace=True)\n",
        "full_test.head()"
      ],
      "execution_count": null,
      "outputs": [
        {
          "output_type": "stream",
          "text": [
            "/usr/local/lib/python3.7/dist-packages/ipykernel_launcher.py:3: SettingWithCopyWarning: \n",
            "A value is trying to be set on a copy of a slice from a DataFrame\n",
            "\n",
            "See the caveats in the documentation: https://pandas.pydata.org/pandas-docs/stable/user_guide/indexing.html#returning-a-view-versus-a-copy\n",
            "  This is separate from the ipykernel package so we can avoid doing imports until\n"
          ],
          "name": "stderr"
        },
        {
          "output_type": "execute_result",
          "data": {
            "text/html": [
              "<div>\n",
              "<style scoped>\n",
              "    .dataframe tbody tr th:only-of-type {\n",
              "        vertical-align: middle;\n",
              "    }\n",
              "\n",
              "    .dataframe tbody tr th {\n",
              "        vertical-align: top;\n",
              "    }\n",
              "\n",
              "    .dataframe thead th {\n",
              "        text-align: right;\n",
              "    }\n",
              "</style>\n",
              "<table border=\"1\" class=\"dataframe\">\n",
              "  <thead>\n",
              "    <tr style=\"text-align: right;\">\n",
              "      <th></th>\n",
              "      <th>PaperId</th>\n",
              "      <th>AuthorId</th>\n",
              "      <th>Affiliation</th>\n",
              "      <th>Year</th>\n",
              "      <th>ConferenceId</th>\n",
              "      <th>JournalId</th>\n",
              "      <th>Keyword</th>\n",
              "      <th>ConferenceShortName</th>\n",
              "      <th>ConferenceName</th>\n",
              "      <th>JournalShortName</th>\n",
              "      <th>JournalName</th>\n",
              "    </tr>\n",
              "  </thead>\n",
              "  <tbody>\n",
              "    <tr>\n",
              "      <th>0</th>\n",
              "      <td>37</td>\n",
              "      <td>1303266</td>\n",
              "      <td>671475</td>\n",
              "      <td>2010.0</td>\n",
              "      <td>0.0</td>\n",
              "      <td>2399.0</td>\n",
              "      <td>470435</td>\n",
              "      <td>3691</td>\n",
              "      <td>4473</td>\n",
              "      <td>43</td>\n",
              "      <td>148</td>\n",
              "    </tr>\n",
              "    <tr>\n",
              "      <th>1</th>\n",
              "      <td>53</td>\n",
              "      <td>1037194</td>\n",
              "      <td>623060</td>\n",
              "      <td>2009.0</td>\n",
              "      <td>2058.0</td>\n",
              "      <td>0.0</td>\n",
              "      <td>248136</td>\n",
              "      <td>1581</td>\n",
              "      <td>2366</td>\n",
              "      <td>8283</td>\n",
              "      <td>15106</td>\n",
              "    </tr>\n",
              "    <tr>\n",
              "      <th>2</th>\n",
              "      <td>53</td>\n",
              "      <td>1037194</td>\n",
              "      <td>653994</td>\n",
              "      <td>2009.0</td>\n",
              "      <td>2058.0</td>\n",
              "      <td>0.0</td>\n",
              "      <td>248136</td>\n",
              "      <td>1581</td>\n",
              "      <td>2366</td>\n",
              "      <td>8283</td>\n",
              "      <td>15106</td>\n",
              "    </tr>\n",
              "    <tr>\n",
              "      <th>3</th>\n",
              "      <td>60</td>\n",
              "      <td>2002249</td>\n",
              "      <td>828286</td>\n",
              "      <td>2011.0</td>\n",
              "      <td>0.0</td>\n",
              "      <td>4921.0</td>\n",
              "      <td>55766</td>\n",
              "      <td>3691</td>\n",
              "      <td>4473</td>\n",
              "      <td>5324</td>\n",
              "      <td>9382</td>\n",
              "    </tr>\n",
              "    <tr>\n",
              "      <th>4</th>\n",
              "      <td>60</td>\n",
              "      <td>2002249</td>\n",
              "      <td>538079</td>\n",
              "      <td>2011.0</td>\n",
              "      <td>0.0</td>\n",
              "      <td>4921.0</td>\n",
              "      <td>55766</td>\n",
              "      <td>3691</td>\n",
              "      <td>4473</td>\n",
              "      <td>5324</td>\n",
              "      <td>9382</td>\n",
              "    </tr>\n",
              "  </tbody>\n",
              "</table>\n",
              "</div>"
            ],
            "text/plain": [
              "   PaperId  AuthorId  ...  JournalShortName  JournalName\n",
              "0       37   1303266  ...                43          148\n",
              "1       53   1037194  ...              8283        15106\n",
              "2       53   1037194  ...              8283        15106\n",
              "3       60   2002249  ...              5324         9382\n",
              "4       60   2002249  ...              5324         9382\n",
              "\n",
              "[5 rows x 11 columns]"
            ]
          },
          "metadata": {
            "tags": []
          },
          "execution_count": 31
        }
      ]
    },
    {
      "cell_type": "code",
      "metadata": {
        "id": "55LrA1mCpTce"
      },
      "source": [
        "del full_dataset,train,paper,author,paperauthor,journal,conference"
      ],
      "execution_count": null,
      "outputs": []
    },
    {
      "cell_type": "code",
      "metadata": {
        "colab": {
          "base_uri": "https://localhost:8080/"
        },
        "id": "KqWXvCr24FNp",
        "outputId": "ba75a255-c3f0-4633-d1b2-d207899e91e5"
      },
      "source": [
        "model1=RandomForestClassifier()\n",
        "model2=LogisticRegression()\n",
        "\n",
        "model1.fit(x_train,y_train)\n",
        "model2.fit(x_train,y_train)\n",
        "\n",
        "pred1=model1.predict(x_test)\n",
        "pred2=model2.predict(x_test)\n",
        "\n",
        "test_pred1=model1.predict(full_test)\n",
        "test_pred2=model2.predict(full_test)\n",
        "\n",
        "stack_prediction=np.column_stack((pred1,pred2))\n",
        "stack_test_prediction=np.column_stack((test_pred1,test_pred2))\n",
        "\n",
        "meta_model=SVC()\n",
        "meta_model.fit(stack_prediction,y_test)\n",
        "\n",
        "final_prediction=meta_model.predict(stack_test_prediction)"
      ],
      "execution_count": null,
      "outputs": [
        {
          "output_type": "stream",
          "text": [
            "/usr/local/lib/python3.7/dist-packages/sklearn/linear_model/_logistic.py:940: ConvergenceWarning: lbfgs failed to converge (status=1):\n",
            "STOP: TOTAL NO. of ITERATIONS REACHED LIMIT.\n",
            "\n",
            "Increase the number of iterations (max_iter) or scale the data as shown in:\n",
            "    https://scikit-learn.org/stable/modules/preprocessing.html\n",
            "Please also refer to the documentation for alternative solver options:\n",
            "    https://scikit-learn.org/stable/modules/linear_model.html#logistic-regression\n",
            "  extra_warning_msg=_LOGISTIC_SOLVER_CONVERGENCE_MSG)\n"
          ],
          "name": "stderr"
        }
      ]
    },
    {
      "cell_type": "code",
      "metadata": {
        "colab": {
          "base_uri": "https://localhost:8080/"
        },
        "id": "_Cs4OdXNTL_8",
        "outputId": "45416b16-1a01-4ddc-8252-4d1c88f6365b"
      },
      "source": [
        "new_test=pd.concat([full_test.AuthorId,full_test.PaperId,pd.Series(final_prediction,name='confirmed')],axis=1)\n",
        "new_test.fillna(0,inplace=True)\n",
        "new_test.head()"
      ],
      "execution_count": null,
      "outputs": [
        {
          "output_type": "execute_result",
          "data": {
            "text/html": [
              "<div>\n",
              "<style scoped>\n",
              "    .dataframe tbody tr th:only-of-type {\n",
              "        vertical-align: middle;\n",
              "    }\n",
              "\n",
              "    .dataframe tbody tr th {\n",
              "        vertical-align: top;\n",
              "    }\n",
              "\n",
              "    .dataframe thead th {\n",
              "        text-align: right;\n",
              "    }\n",
              "</style>\n",
              "<table border=\"1\" class=\"dataframe\">\n",
              "  <thead>\n",
              "    <tr style=\"text-align: right;\">\n",
              "      <th></th>\n",
              "      <th>AuthorId</th>\n",
              "      <th>PaperId</th>\n",
              "      <th>confirmed</th>\n",
              "    </tr>\n",
              "  </thead>\n",
              "  <tbody>\n",
              "    <tr>\n",
              "      <th>0</th>\n",
              "      <td>1303266.0</td>\n",
              "      <td>37.0</td>\n",
              "      <td>1.0</td>\n",
              "    </tr>\n",
              "    <tr>\n",
              "      <th>1</th>\n",
              "      <td>1037194.0</td>\n",
              "      <td>53.0</td>\n",
              "      <td>1.0</td>\n",
              "    </tr>\n",
              "    <tr>\n",
              "      <th>2</th>\n",
              "      <td>1037194.0</td>\n",
              "      <td>53.0</td>\n",
              "      <td>1.0</td>\n",
              "    </tr>\n",
              "    <tr>\n",
              "      <th>3</th>\n",
              "      <td>2002249.0</td>\n",
              "      <td>60.0</td>\n",
              "      <td>1.0</td>\n",
              "    </tr>\n",
              "    <tr>\n",
              "      <th>4</th>\n",
              "      <td>2002249.0</td>\n",
              "      <td>60.0</td>\n",
              "      <td>0.0</td>\n",
              "    </tr>\n",
              "  </tbody>\n",
              "</table>\n",
              "</div>"
            ],
            "text/plain": [
              "    AuthorId  PaperId  confirmed\n",
              "0  1303266.0     37.0        1.0\n",
              "1  1037194.0     53.0        1.0\n",
              "2  1037194.0     53.0        1.0\n",
              "3  2002249.0     60.0        1.0\n",
              "4  2002249.0     60.0        0.0"
            ]
          },
          "metadata": {
            "tags": []
          },
          "execution_count": 34
        }
      ]
    },
    {
      "cell_type": "code",
      "metadata": {
        "colab": {
          "base_uri": "https://localhost:8080/"
        },
        "id": "Nbq5UEEFWYCU",
        "outputId": "b45a9df0-3eb7-4106-c7b8-ee3e31fd253f"
      },
      "source": [
        "sorted_test=new_test.sort_values(by=['AuthorId'])\n",
        "sorted_test.head()"
      ],
      "execution_count": null,
      "outputs": [
        {
          "output_type": "execute_result",
          "data": {
            "text/html": [
              "<div>\n",
              "<style scoped>\n",
              "    .dataframe tbody tr th:only-of-type {\n",
              "        vertical-align: middle;\n",
              "    }\n",
              "\n",
              "    .dataframe tbody tr th {\n",
              "        vertical-align: top;\n",
              "    }\n",
              "\n",
              "    .dataframe thead th {\n",
              "        text-align: right;\n",
              "    }\n",
              "</style>\n",
              "<table border=\"1\" class=\"dataframe\">\n",
              "  <thead>\n",
              "    <tr style=\"text-align: right;\">\n",
              "      <th></th>\n",
              "      <th>AuthorId</th>\n",
              "      <th>PaperId</th>\n",
              "      <th>confirmed</th>\n",
              "    </tr>\n",
              "  </thead>\n",
              "  <tbody>\n",
              "    <tr>\n",
              "      <th>104789</th>\n",
              "      <td>0.0</td>\n",
              "      <td>0.0</td>\n",
              "      <td>0.0</td>\n",
              "    </tr>\n",
              "    <tr>\n",
              "      <th>121785</th>\n",
              "      <td>0.0</td>\n",
              "      <td>0.0</td>\n",
              "      <td>0.0</td>\n",
              "    </tr>\n",
              "    <tr>\n",
              "      <th>136748</th>\n",
              "      <td>0.0</td>\n",
              "      <td>0.0</td>\n",
              "      <td>0.0</td>\n",
              "    </tr>\n",
              "    <tr>\n",
              "      <th>66684</th>\n",
              "      <td>0.0</td>\n",
              "      <td>0.0</td>\n",
              "      <td>0.0</td>\n",
              "    </tr>\n",
              "    <tr>\n",
              "      <th>2088</th>\n",
              "      <td>0.0</td>\n",
              "      <td>0.0</td>\n",
              "      <td>0.0</td>\n",
              "    </tr>\n",
              "  </tbody>\n",
              "</table>\n",
              "</div>"
            ],
            "text/plain": [
              "        AuthorId  PaperId  confirmed\n",
              "104789       0.0      0.0        0.0\n",
              "121785       0.0      0.0        0.0\n",
              "136748       0.0      0.0        0.0\n",
              "66684        0.0      0.0        0.0\n",
              "2088         0.0      0.0        0.0"
            ]
          },
          "metadata": {
            "tags": []
          },
          "execution_count": 35
        }
      ]
    },
    {
      "cell_type": "code",
      "metadata": {
        "id": "Mhcq4GPDdlLS"
      },
      "source": [
        "PaperId=[]\n",
        "for i in sorted_test.AuthorId.unique():\n",
        "  string=\"\"\n",
        "  for j in sorted_test.loc[sorted_test.AuthorId==i,'PaperId']:\n",
        "    string+=string+\" \"+str(j)\n",
        "  PaperId.append(string)"
      ],
      "execution_count": null,
      "outputs": []
    },
    {
      "cell_type": "code",
      "metadata": {
        "id": "F_3fN2lE-r-J"
      },
      "source": [
        "PaperID=pd.Series(PaperId)"
      ],
      "execution_count": null,
      "outputs": []
    }
  ]
}